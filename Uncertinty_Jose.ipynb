{
  "nbformat": 4,
  "nbformat_minor": 0,
  "metadata": {
    "colab": {
      "name": "Uncertinty_Jose.ipynb",
      "version": "0.3.2",
      "provenance": [],
      "collapsed_sections": []
    },
    "kernelspec": {
      "name": "python3",
      "display_name": "Python 3"
    }
  },
  "cells": [
    {
      "cell_type": "markdown",
      "metadata": {
        "id": "view-in-github",
        "colab_type": "text"
      },
      "source": [
        "[View in Colaboratory](https://colab.research.google.com/github/algorismes/slides/blob/master/Uncertinty_Jose.ipynb)"
      ]
    },
    {
      "metadata": {
        "id": "2qiQdFdX_eD8",
        "colab_type": "code",
        "colab": {}
      },
      "cell_type": "code",
      "source": [
        "# https://keras.io/\n",
        "!pip install -q keras\n",
        "import keras"
      ],
      "execution_count": 0,
      "outputs": []
    },
    {
      "metadata": {
        "id": "2rwUAzBa_TBl",
        "colab_type": "code",
        "colab": {}
      },
      "cell_type": "code",
      "source": [
        "from keras.callbacks import TensorBoard\n",
        "from keras.layers import Input, Dense, concatenate, Flatten, Dropout\n",
        "from keras.models import Model\n",
        "from keras.optimizers import Adam, SGD, RMSprop, Nadam\n",
        "from keras.initializers import RandomNormal\n",
        "from keras import backend as K\n",
        "import numpy as np\n",
        "import matplotlib.pyplot as plt"
      ],
      "execution_count": 0,
      "outputs": []
    },
    {
      "metadata": {
        "id": "YB2om97t_YmB",
        "colab_type": "code",
        "colab": {
          "base_uri": "https://localhost:8080/",
          "height": 347
        },
        "outputId": "c9c5fae8-2885-4df0-f020-d6a15087e892"
      },
      "cell_type": "code",
      "source": [
        "x = np.linspace(0, 20, 10000)#, dtype=\"int32\")  # 100000 values between 0 and 100\n",
        "delta = np.random.normal(0, 4, x.size)\n",
        "y = 2*x + delta\n",
        "x2 = np.linspace(20, 40, 10000)\n",
        "delta2 = np.random.normal(0, 1, x2.size)\n",
        "y2 = 2*x2 + delta2\n",
        "x = np.append(x, x2)\n",
        "y = np.append(y, y2)\n",
        "plt.plot(x,y)\n",
        "plt.show()"
      ],
      "execution_count": 5,
      "outputs": [
        {
          "output_type": "display_data",
          "data": {
            "image/png": "[encoded data removed]",
            "text/plain": [
              "<matplotlib.figure.Figure at 0x7ff0e01b1be0>"
            ]
          },
          "metadata": {
            "tags": []
          }
        }
      ]
    },
    {
      "metadata": {
        "id": "OyfNliWX_j1Y",
        "colab_type": "code",
        "colab": {
          "base_uri": "https://localhost:8080/",
          "height": 1707
        },
        "outputId": "4f62790b-4822-4f5f-ca9c-22a7ecc6465f"
      },
      "cell_type": "code",
      "source": [
        "def aleatoric_loss(y_true, y_pred):\n",
        "    sigma = K.log(K.exp(y_pred[:, 1]) + 1)\n",
        "    epsilon = 1e-6\n",
        "    y_pred_prima = y_pred[:, 0]\n",
        "    output_value = ((K.square(y_pred_prima - y_true[:, 0])) / (K.square(sigma) + epsilon)) + K.log(K.square(sigma) + epsilon)\n",
        "    return K.mean(output_value, axis=-1)\n",
        "\n",
        "def aleatoric_rms(y_true, y_pred):\n",
        "    y_pred_prima = y_pred[:, 0]\n",
        "    return K.mean(K.square(y_pred_prima - y_true[:, 0]), axis=-1)\n",
        "\n",
        "def aleatoric_uncertainty(y_true, y_pred):\n",
        "    sigma = K.abs(y_pred[:, 1])\n",
        "    return K.max(K.log(K.square(sigma)), axis=-1)\n",
        "  \n",
        "raw_inputs = Input(shape=(1,))\n",
        "raw_preds = Dense(1, activation='linear', name=\"preds\")(raw_inputs)\n",
        "\n",
        "rawmodel = Model(inputs=raw_inputs,outputs=raw_preds)\n",
        "rawmodel.compile(optimizer=Adam(lr=0.01), loss='mean_squared_error', metrics=['mean_squared_error'])\n",
        "rawmodel.fit(x, y, batch_size=128, epochs=40, shuffle=True)\n",
        "x_raw_pred = np.array([1,2,3,4,5,6,7,8,9,10,15,20])\n",
        "raw_result = rawmodel.predict(x)\n",
        "\n",
        "plt.plot(x, raw_result[:,0],'.', alpha=0.5)\n",
        "plt.show()\n"
      ],
      "execution_count": 6,
      "outputs": [
        {
          "output_type": "stream",
          "text": [
            "Epoch 1/40\n",
            "20000/20000 [==============================] - 0s 11us/step - loss: 897.6005 - mean_squared_error: 897.6005\n",
            "Epoch 2/40\n",
            "20000/20000 [==============================] - 0s 8us/step - loss: 77.4002 - mean_squared_error: 77.4002\n",
            "Epoch 3/40\n",
            "20000/20000 [==============================] - 0s 9us/step - loss: 10.9018 - mean_squared_error: 10.9018\n",
            "Epoch 4/40\n",
            "20000/20000 [==============================] - 0s 9us/step - loss: 9.2736 - mean_squared_error: 9.2736\n",
            "Epoch 5/40\n",
            "20000/20000 [==============================] - 0s 9us/step - loss: 9.2133 - mean_squared_error: 9.2133\n",
            "Epoch 6/40\n",
            "20000/20000 [==============================] - 0s 9us/step - loss: 9.1575 - mean_squared_error: 9.1575\n",
            "Epoch 7/40\n",
            "20000/20000 [==============================] - 0s 9us/step - loss: 9.1002 - mean_squared_error: 9.1002\n",
            "Epoch 8/40\n",
            "20000/20000 [==============================] - 0s 8us/step - loss: 9.0404 - mean_squared_error: 9.0404\n",
            "Epoch 9/40\n",
            "20000/20000 [==============================] - 0s 8us/step - loss: 8.9798 - mean_squared_error: 8.9798\n",
            "Epoch 10/40\n",
            "20000/20000 [==============================] - 0s 8us/step - loss: 8.9192 - mean_squared_error: 8.9192\n",
            "Epoch 11/40\n",
            "20000/20000 [==============================] - 0s 7us/step - loss: 8.8614 - mean_squared_error: 8.8614\n",
            "Epoch 12/40\n",
            "20000/20000 [==============================] - 0s 8us/step - loss: 8.8049 - mean_squared_error: 8.8049\n",
            "Epoch 13/40\n",
            "20000/20000 [==============================] - 0s 9us/step - loss: 8.7541 - mean_squared_error: 8.7541\n",
            "Epoch 14/40\n",
            "20000/20000 [==============================] - 0s 9us/step - loss: 8.7051 - mean_squared_error: 8.7051\n",
            "Epoch 15/40\n",
            "20000/20000 [==============================] - 0s 9us/step - loss: 8.6617 - mean_squared_error: 8.6617\n",
            "Epoch 16/40\n",
            "20000/20000 [==============================] - 0s 9us/step - loss: 8.6220 - mean_squared_error: 8.6220\n",
            "Epoch 17/40\n",
            "20000/20000 [==============================] - 0s 8us/step - loss: 8.5890 - mean_squared_error: 8.5890\n",
            "Epoch 18/40\n",
            "20000/20000 [==============================] - 0s 9us/step - loss: 8.5602 - mean_squared_error: 8.5602\n"
          ],
          "name": "stdout"
        },
        {
          "output_type": "stream",
          "text": [
            "Epoch 19/40\n",
            "20000/20000 [==============================] - 0s 10us/step - loss: 8.5368 - mean_squared_error: 8.5368\n",
            "Epoch 20/40\n",
            "20000/20000 [==============================] - 0s 9us/step - loss: 8.5162 - mean_squared_error: 8.5162\n",
            "Epoch 21/40\n",
            "20000/20000 [==============================] - 0s 9us/step - loss: 8.5006 - mean_squared_error: 8.5006\n",
            "Epoch 22/40\n",
            "20000/20000 [==============================] - 0s 9us/step - loss: 8.4894 - mean_squared_error: 8.4894\n",
            "Epoch 23/40\n",
            "20000/20000 [==============================] - 0s 9us/step - loss: 8.4807 - mean_squared_error: 8.4807\n",
            "Epoch 24/40\n",
            "20000/20000 [==============================] - 0s 9us/step - loss: 8.4746 - mean_squared_error: 8.4746\n",
            "Epoch 25/40\n",
            "20000/20000 [==============================] - 0s 8us/step - loss: 8.4690 - mean_squared_error: 8.4690\n",
            "Epoch 26/40\n",
            "20000/20000 [==============================] - 0s 9us/step - loss: 8.4675 - mean_squared_error: 8.4675\n",
            "Epoch 27/40\n",
            "20000/20000 [==============================] - 0s 9us/step - loss: 8.4649 - mean_squared_error: 8.4649\n",
            "Epoch 28/40\n",
            "20000/20000 [==============================] - 0s 9us/step - loss: 8.4632 - mean_squared_error: 8.4632\n",
            "Epoch 29/40\n",
            "20000/20000 [==============================] - 0s 9us/step - loss: 8.4637 - mean_squared_error: 8.4637\n",
            "Epoch 30/40\n",
            "20000/20000 [==============================] - 0s 9us/step - loss: 8.4627 - mean_squared_error: 8.4627\n",
            "Epoch 31/40\n",
            "20000/20000 [==============================] - 0s 9us/step - loss: 8.4631 - mean_squared_error: 8.4631\n",
            "Epoch 32/40\n",
            "20000/20000 [==============================] - 0s 9us/step - loss: 8.4630 - mean_squared_error: 8.4630\n",
            "Epoch 33/40\n",
            "20000/20000 [==============================] - 0s 8us/step - loss: 8.4633 - mean_squared_error: 8.4633\n",
            "Epoch 34/40\n",
            "20000/20000 [==============================] - 0s 9us/step - loss: 8.4620 - mean_squared_error: 8.4620\n",
            "Epoch 35/40\n",
            "20000/20000 [==============================] - 0s 9us/step - loss: 8.4636 - mean_squared_error: 8.4636\n",
            "Epoch 36/40\n",
            "20000/20000 [==============================] - 0s 8us/step - loss: 8.4636 - mean_squared_error: 8.4636\n"
          ],
          "name": "stdout"
        },
        {
          "output_type": "stream",
          "text": [
            "Epoch 37/40\n",
            "20000/20000 [==============================] - 0s 9us/step - loss: 8.4654 - mean_squared_error: 8.4654\n",
            "Epoch 38/40\n",
            "20000/20000 [==============================] - 0s 9us/step - loss: 8.4625 - mean_squared_error: 8.4625\n",
            "Epoch 39/40\n",
            "20000/20000 [==============================] - 0s 9us/step - loss: 8.4639 - mean_squared_error: 8.4639\n",
            "Epoch 40/40\n",
            "20000/20000 [==============================] - 0s 9us/step - loss: 8.4637 - mean_squared_error: 8.4637\n"
          ],
          "name": "stdout"
        },
        {
          "output_type": "display_data",
          "data": {
            "image/png": "[encoded data removed]",
            "text/plain": [
              "<matplotlib.figure.Figure at 0x7ff0d694c518>"
            ]
          },
          "metadata": {
            "tags": []
          }
        }
      ]
    },
    {
      "metadata": {
        "id": "StrmsgU1wdRi",
        "colab_type": "code",
        "colab": {}
      },
      "cell_type": "code",
      "source": [
        "# https://keras.io/\n",
        "!pip install -q keras\n",
        "import keras"
      ],
      "execution_count": 0,
      "outputs": []
    },
    {
      "metadata": {
        "id": "golw06hD_xMY",
        "colab_type": "code",
        "colab": {
          "base_uri": "https://localhost:8080/",
          "height": 687
        },
        "outputId": "e0f94628-21ea-469c-ae26-418912f72bba"
      },
      "cell_type": "code",
      "source": [
        "from keras.callbacks import TensorBoard\n",
        "from keras.layers import Input, Dense, concatenate, Flatten, Dropout\n",
        "from keras.models import Model\n",
        "from keras.optimizers import Adam, SGD, RMSprop, Nadam\n",
        "from keras.initializers import RandomNormal\n",
        "from keras import backend as K\n",
        "import numpy as np\n",
        "import matplotlib.pyplot as plt\n",
        "\n",
        "x = np.linspace(0, 20, 10000)#, dtype=\"int32\")  # 100000 values between 0 and 100\n",
        "delta = np.random.normal(0, 4, x.size)\n",
        "y = 2*x + delta\n",
        "x2 = np.linspace(20, 40, 10000)\n",
        "delta2 = np.random.normal(0, 1, x2.size)\n",
        "y2 = 2*x2 + delta2\n",
        "x = np.append(x, x2)\n",
        "y = np.append(y, y2)\n",
        "plt.plot(x,y)\n",
        "plt.show()\n",
        "\n",
        "def aleatoric_loss(y_true, y_pred):\n",
        "    sigma = K.log(K.exp(y_pred[:, 1]) + 1)\n",
        "    epsilon = 1e-6\n",
        "    y_pred_prima = y_pred[:, 0]\n",
        "    output_value1 = ((K.square(y_pred_prima - y_true[:, 0])) / (K.square(sigma) + epsilon)) +  K.log(K.square(sigma) + epsilon)\n",
        "    output_value2 = (K.square(y_pred_prima - y_true[:, 0]))\n",
        "    output_value = 0.5 * output_value1 + 0.5 * output_value2\n",
        "    return K.mean(output_value, axis=-1)\n",
        "  \n",
        "def orig_aleatoric_loss(y_true, y_pred):\n",
        "    sigma = K.log(K.exp(y_pred[:, 1]) + 1)\n",
        "    epsilon = 1e-6\n",
        "    y_pred_prima = y_pred[:, 0]\n",
        "    output_value = ((K.square(y_pred_prima - y_true[:, 0])) / (K.square(sigma) + epsilon)) + K.log(K.square(sigma) + epsilon)\n",
        "    return K.mean(output_value, axis=-1)\n",
        "\n",
        "def aleatoric_rms(y_true, y_pred):\n",
        "    y_pred_prima = y_pred[:, 0]\n",
        "    return K.mean(K.square(y_pred_prima - y_true[:, 0]), axis=-1)\n",
        "\n",
        "def aleatoric_uncertainty(y_true, y_pred):\n",
        "    sigma = y_pred[:, 1]\n",
        "    return K.max(K.log(K.square(sigma)), axis=-1)\n",
        "\n",
        "inputs = Input(shape=(1,))\n",
        "\n",
        "layer1 = Dense(15, activation='relu', name=\"layer1\", \n",
        "               kernel_initializer=RandomNormal(mean=0.0, stddev=0.05, seed=None))(inputs)\n",
        "layer2 = Dense(10, activation='relu', name=\"layer2\", \n",
        "               kernel_initializer=RandomNormal(mean=0.0, stddev=0.05, seed=None))(layer1)\n",
        "sigma  = Dense(1, activation='linear', name=\"sigma\", \n",
        "               kernel_initializer=RandomNormal(mean=0.0, stddev=0.05, seed=None))(layer2)\n",
        "\n",
        "preds = Dense(1, activation='linear', name=\"preds\")(inputs)\n",
        "\n",
        "aleatoric_output = concatenate([preds, sigma])\n",
        "\n",
        "sgd = SGD(lr=0.001)\n",
        "adam = Adam(lr=0.0003)\n",
        "rms = RMSprop(lr=0.001)\n",
        "nadam = Nadam(lr=0.001)\n",
        "\n",
        "model = Model(inputs=inputs,outputs=aleatoric_output)\n",
        "model.compile(optimizer=adam, loss=orig_aleatoric_loss, metrics=[aleatoric_rms, aleatoric_uncertainty])\n",
        "model.summary()"
      ],
      "execution_count": 8,
      "outputs": [
        {
          "output_type": "display_data",
          "data": {
            "image/png": "[encoded data removed]",
            "text/plain": [
              "<matplotlib.figure.Figure at 0x7ff0d66d4358>"
            ]
          },
          "metadata": {
            "tags": []
          }
        },
        {
          "output_type": "stream",
          "text": [
            "__________________________________________________________________________________________________\n",
            "Layer (type)                    Output Shape         Param #     Connected to                     \n",
            "==================================================================================================\n",
            "input_2 (InputLayer)            (None, 1)            0                                            \n",
            "__________________________________________________________________________________________________\n",
            "layer1 (Dense)                  (None, 15)           30          input_2[0][0]                    \n",
            "__________________________________________________________________________________________________\n",
            "layer2 (Dense)                  (None, 10)           160         layer1[0][0]                     \n",
            "__________________________________________________________________________________________________\n",
            "preds (Dense)                   (None, 1)            2           input_2[0][0]                    \n",
            "__________________________________________________________________________________________________\n",
            "sigma (Dense)                   (None, 1)            11          layer2[0][0]                     \n",
            "__________________________________________________________________________________________________\n",
            "concatenate_1 (Concatenate)     (None, 2)            0           preds[0][0]                      \n",
            "                                                                 sigma[0][0]                      \n",
            "==================================================================================================\n",
            "Total params: 203\n",
            "Trainable params: 203\n",
            "Non-trainable params: 0\n",
            "__________________________________________________________________________________________________\n"
          ],
          "name": "stdout"
        }
      ]
    },
    {
      "metadata": {
        "id": "YG1utEdW_9qJ",
        "colab_type": "code",
        "colab": {
          "base_uri": "https://localhost:8080/",
          "height": 6854
        },
        "outputId": "6d6be743-9684-46ca-86d9-89f867b2541e"
      },
      "cell_type": "code",
      "source": [
        "model.fit(x, np.expand_dims(y, axis=1).repeat(2, axis=1), batch_size=64, epochs=200, shuffle=True)"
      ],
      "execution_count": 9,
      "outputs": [
        {
          "output_type": "stream",
          "text": [
            "Epoch 1/200\n",
            "20000/20000 [==============================] - 1s 30us/step - loss: 5977.2519 - aleatoric_rms: 5515.0968 - aleatoric_uncertainty: -1.7310\n",
            "Epoch 2/200\n",
            "20000/20000 [==============================] - 0s 22us/step - loss: 790.5901 - aleatoric_rms: 5408.5591 - aleatoric_uncertainty: 2.6614\n",
            "Epoch 3/200\n",
            "20000/20000 [==============================] - 0s 21us/step - loss: 335.6165 - aleatoric_rms: 5370.6045 - aleatoric_uncertainty: 3.6008\n",
            "Epoch 4/200\n",
            "20000/20000 [==============================] - 0s 21us/step - loss: 203.5184 - aleatoric_rms: 5344.4247 - aleatoric_uncertainty: 4.1382\n",
            "Epoch 5/200\n",
            "20000/20000 [==============================] - 0s 21us/step - loss: 141.6400 - aleatoric_rms: 5322.7286 - aleatoric_uncertainty: 4.5207\n",
            "Epoch 6/200\n",
            "20000/20000 [==============================] - 0s 24us/step - loss: 106.1619 - aleatoric_rms: 5303.5894 - aleatoric_uncertainty: 4.8274\n",
            "Epoch 7/200\n",
            "20000/20000 [==============================] - 0s 24us/step - loss: 83.3700 - aleatoric_rms: 5286.0294 - aleatoric_uncertainty: 5.0851\n",
            "Epoch 8/200\n",
            "20000/20000 [==============================] - 0s 25us/step - loss: 67.6135 - aleatoric_rms: 5269.3773 - aleatoric_uncertainty: 5.3143\n",
            "Epoch 9/200\n",
            "20000/20000 [==============================] - 0s 24us/step - loss: 56.1535 - aleatoric_rms: 5253.4600 - aleatoric_uncertainty: 5.5151\n",
            "Epoch 10/200\n",
            "20000/20000 [==============================] - 0s 23us/step - loss: 47.4972 - aleatoric_rms: 5237.9125 - aleatoric_uncertainty: 5.7013\n",
            "Epoch 11/200\n",
            "13312/20000 [==================>...........] - ETA: 0s - loss: 41.7500 - aleatoric_rms: 5245.8841 - aleatoric_uncertainty: 5.8442"
          ],
          "name": "stdout"
        },
        {
          "output_type": "stream",
          "text": [
            "20000/20000 [==============================] - 0s 23us/step - loss: 40.7730 - aleatoric_rms: 5222.5528 - aleatoric_uncertainty: 5.8720\n",
            "Epoch 12/200\n",
            "20000/20000 [==============================] - 0s 24us/step - loss: 35.4354 - aleatoric_rms: 5207.2870 - aleatoric_uncertainty: 6.0378\n",
            "Epoch 13/200\n",
            "20000/20000 [==============================] - 0s 25us/step - loss: 31.1238 - aleatoric_rms: 5192.0376 - aleatoric_uncertainty: 6.1905\n",
            "Epoch 14/200\n",
            "20000/20000 [==============================] - 0s 24us/step - loss: 27.5929 - aleatoric_rms: 5176.6401 - aleatoric_uncertainty: 6.3355\n",
            "Epoch 15/200\n",
            "20000/20000 [==============================] - 0s 23us/step - loss: 24.6691 - aleatoric_rms: 5161.1124 - aleatoric_uncertainty: 6.4754\n",
            "Epoch 16/200\n",
            "20000/20000 [==============================] - 0s 24us/step - loss: 22.2268 - aleatoric_rms: 5145.2899 - aleatoric_uncertainty: 6.6150\n",
            "Epoch 17/200\n",
            "20000/20000 [==============================] - 0s 24us/step - loss: 20.1718 - aleatoric_rms: 5129.1604 - aleatoric_uncertainty: 6.7478\n",
            "Epoch 18/200\n",
            "20000/20000 [==============================] - 0s 23us/step - loss: 18.4325 - aleatoric_rms: 5112.5731 - aleatoric_uncertainty: 6.8792\n",
            "Epoch 19/200\n",
            "20000/20000 [==============================] - 1s 25us/step - loss: 16.9540 - aleatoric_rms: 5095.7127 - aleatoric_uncertainty: 7.0015\n",
            "Epoch 20/200\n",
            "20000/20000 [==============================] - 0s 24us/step - loss: 15.6928 - aleatoric_rms: 5078.2031 - aleatoric_uncertainty: 7.1267\n",
            "Epoch 21/200\n",
            "13120/20000 [==================>...........] - ETA: 0s - loss: 14.7664 - aleatoric_rms: 5073.8844 - aleatoric_uncertainty: 7.2257"
          ],
          "name": "stdout"
        },
        {
          "output_type": "stream",
          "text": [
            "20000/20000 [==============================] - 0s 24us/step - loss: 14.6141 - aleatoric_rms: 5060.2144 - aleatoric_uncertainty: 7.2461\n",
            "Epoch 22/200\n",
            "20000/20000 [==============================] - 0s 24us/step - loss: 13.6901 - aleatoric_rms: 5041.6500 - aleatoric_uncertainty: 7.3669\n",
            "Epoch 23/200\n",
            "20000/20000 [==============================] - 0s 23us/step - loss: 12.8979 - aleatoric_rms: 5022.3592 - aleatoric_uncertainty: 7.4832\n",
            "Epoch 24/200\n",
            "20000/20000 [==============================] - 0s 24us/step - loss: 12.2184 - aleatoric_rms: 5002.3286 - aleatoric_uncertainty: 7.5976\n",
            "Epoch 25/200\n",
            "20000/20000 [==============================] - 0s 24us/step - loss: 11.6355 - aleatoric_rms: 4981.5068 - aleatoric_uncertainty: 7.7045\n",
            "Epoch 26/200\n",
            "20000/20000 [==============================] - 0s 24us/step - loss: 11.1361 - aleatoric_rms: 4959.8973 - aleatoric_uncertainty: 7.8172\n",
            "Epoch 27/200\n",
            "20000/20000 [==============================] - 0s 24us/step - loss: 10.7089 - aleatoric_rms: 4937.4017 - aleatoric_uncertainty: 7.9256\n",
            "Epoch 28/200\n",
            "20000/20000 [==============================] - 0s 24us/step - loss: 10.3442 - aleatoric_rms: 4913.8108 - aleatoric_uncertainty: 8.0323\n",
            "Epoch 29/200\n",
            "20000/20000 [==============================] - 0s 24us/step - loss: 10.0337 - aleatoric_rms: 4889.0146 - aleatoric_uncertainty: 8.1333\n",
            "Epoch 30/200\n",
            "20000/20000 [==============================] - 0s 25us/step - loss: 9.7702 - aleatoric_rms: 4863.1134 - aleatoric_uncertainty: 8.2355\n",
            "Epoch 31/200\n",
            "13632/20000 [===================>..........] - ETA: 0s - loss: 9.5840 - aleatoric_rms: 4864.4245 - aleatoric_uncertainty: 8.3177"
          ],
          "name": "stdout"
        },
        {
          "output_type": "stream",
          "text": [
            "20000/20000 [==============================] - 1s 26us/step - loss: 9.5476 - aleatoric_rms: 4835.8541 - aleatoric_uncertainty: 8.3331\n",
            "Epoch 32/200\n",
            "20000/20000 [==============================] - 1s 27us/step - loss: 9.3605 - aleatoric_rms: 4807.1423 - aleatoric_uncertainty: 8.4274\n",
            "Epoch 33/200\n",
            "20000/20000 [==============================] - 1s 25us/step - loss: 9.2040 - aleatoric_rms: 4776.7990 - aleatoric_uncertainty: 8.5202\n",
            "Epoch 34/200\n",
            "20000/20000 [==============================] - 0s 24us/step - loss: 9.0739 - aleatoric_rms: 4744.6341 - aleatoric_uncertainty: 8.6070\n",
            "Epoch 35/200\n",
            "20000/20000 [==============================] - 0s 24us/step - loss: 8.9665 - aleatoric_rms: 4710.4300 - aleatoric_uncertainty: 8.6929\n",
            "Epoch 36/200\n",
            "20000/20000 [==============================] - 0s 24us/step - loss: 8.8790 - aleatoric_rms: 4674.0537 - aleatoric_uncertainty: 8.7740\n",
            "Epoch 37/200\n",
            "20000/20000 [==============================] - 0s 24us/step - loss: 8.8097 - aleatoric_rms: 4634.7705 - aleatoric_uncertainty: 8.8427\n",
            "Epoch 38/200\n",
            "20000/20000 [==============================] - 0s 24us/step - loss: nan - aleatoric_rms: nan - aleatoric_uncertainty: -inf \n",
            "Epoch 39/200\n",
            "20000/20000 [==============================] - 0s 24us/step - loss: nan - aleatoric_rms: nan - aleatoric_uncertainty: -inf\n",
            "Epoch 40/200\n",
            "20000/20000 [==============================] - 0s 24us/step - loss: nan - aleatoric_rms: nan - aleatoric_uncertainty: -inf\n",
            "Epoch 41/200\n",
            "14464/20000 [====================>.........] - ETA: 0s - loss: nan - aleatoric_rms: nan - aleatoric_uncertainty: -inf"
          ],
          "name": "stdout"
        },
        {
          "output_type": "stream",
          "text": [
            "20000/20000 [==============================] - 0s 25us/step - loss: nan - aleatoric_rms: nan - aleatoric_uncertainty: -inf\n",
            "Epoch 42/200\n",
            "20000/20000 [==============================] - 0s 24us/step - loss: nan - aleatoric_rms: nan - aleatoric_uncertainty: -inf\n",
            "Epoch 43/200\n",
            "20000/20000 [==============================] - 0s 24us/step - loss: nan - aleatoric_rms: nan - aleatoric_uncertainty: -inf\n",
            "Epoch 44/200\n",
            "20000/20000 [==============================] - 0s 24us/step - loss: nan - aleatoric_rms: nan - aleatoric_uncertainty: -inf\n",
            "Epoch 45/200\n",
            "20000/20000 [==============================] - 0s 24us/step - loss: nan - aleatoric_rms: nan - aleatoric_uncertainty: -inf\n",
            "Epoch 46/200\n",
            "20000/20000 [==============================] - 0s 23us/step - loss: nan - aleatoric_rms: nan - aleatoric_uncertainty: -inf\n",
            "Epoch 47/200\n",
            "20000/20000 [==============================] - 0s 24us/step - loss: nan - aleatoric_rms: nan - aleatoric_uncertainty: -inf\n",
            "Epoch 48/200\n",
            "20000/20000 [==============================] - 0s 24us/step - loss: nan - aleatoric_rms: nan - aleatoric_uncertainty: -inf\n",
            "Epoch 49/200\n",
            "20000/20000 [==============================] - 0s 24us/step - loss: nan - aleatoric_rms: nan - aleatoric_uncertainty: -inf\n",
            "Epoch 50/200\n",
            "20000/20000 [==============================] - 0s 23us/step - loss: nan - aleatoric_rms: nan - aleatoric_uncertainty: -inf\n",
            "Epoch 51/200\n",
            "20000/20000 [==============================] - 0s 23us/step - loss: nan - aleatoric_rms: nan - aleatoric_uncertainty: -inf\n",
            "Epoch 52/200\n",
            " 6848/20000 [=========>....................] - ETA: 0s - loss: nan - aleatoric_rms: nan - aleatoric_uncertainty: -inf"
          ],
          "name": "stdout"
        },
        {
          "output_type": "stream",
          "text": [
            "20000/20000 [==============================] - 0s 24us/step - loss: nan - aleatoric_rms: nan - aleatoric_uncertainty: -inf\n",
            "Epoch 53/200\n",
            "20000/20000 [==============================] - 0s 23us/step - loss: nan - aleatoric_rms: nan - aleatoric_uncertainty: -inf\n",
            "Epoch 54/200\n",
            "20000/20000 [==============================] - 0s 24us/step - loss: nan - aleatoric_rms: nan - aleatoric_uncertainty: -inf\n",
            "Epoch 55/200\n",
            "20000/20000 [==============================] - 0s 23us/step - loss: nan - aleatoric_rms: nan - aleatoric_uncertainty: -inf\n",
            "Epoch 56/200\n",
            "20000/20000 [==============================] - 0s 24us/step - loss: nan - aleatoric_rms: nan - aleatoric_uncertainty: -inf\n",
            "Epoch 57/200\n",
            "20000/20000 [==============================] - 0s 24us/step - loss: nan - aleatoric_rms: nan - aleatoric_uncertainty: -inf\n",
            "Epoch 58/200\n",
            "20000/20000 [==============================] - 0s 25us/step - loss: nan - aleatoric_rms: nan - aleatoric_uncertainty: -inf\n",
            "Epoch 59/200\n",
            "20000/20000 [==============================] - 0s 23us/step - loss: nan - aleatoric_rms: nan - aleatoric_uncertainty: -inf\n",
            "Epoch 60/200\n",
            "20000/20000 [==============================] - 0s 24us/step - loss: nan - aleatoric_rms: nan - aleatoric_uncertainty: -inf\n",
            "Epoch 61/200\n",
            "20000/20000 [==============================] - 0s 23us/step - loss: nan - aleatoric_rms: nan - aleatoric_uncertainty: -inf\n",
            "Epoch 62/200\n",
            "20000/20000 [==============================] - 0s 23us/step - loss: nan - aleatoric_rms: nan - aleatoric_uncertainty: -inf\n",
            "Epoch 63/200\n",
            " 6464/20000 [========>.....................] - ETA: 0s - loss: nan - aleatoric_rms: nan - aleatoric_uncertainty: -inf"
          ],
          "name": "stdout"
        },
        {
          "output_type": "stream",
          "text": [
            "20000/20000 [==============================] - 0s 25us/step - loss: nan - aleatoric_rms: nan - aleatoric_uncertainty: -inf\n",
            "Epoch 64/200\n",
            "20000/20000 [==============================] - 0s 23us/step - loss: nan - aleatoric_rms: nan - aleatoric_uncertainty: -inf\n",
            "Epoch 65/200\n",
            "20000/20000 [==============================] - 0s 23us/step - loss: nan - aleatoric_rms: nan - aleatoric_uncertainty: -inf\n",
            "Epoch 66/200\n",
            "20000/20000 [==============================] - 0s 23us/step - loss: nan - aleatoric_rms: nan - aleatoric_uncertainty: -inf\n",
            "Epoch 67/200\n",
            "20000/20000 [==============================] - 0s 24us/step - loss: nan - aleatoric_rms: nan - aleatoric_uncertainty: -inf\n",
            "Epoch 68/200\n",
            "20000/20000 [==============================] - 0s 24us/step - loss: nan - aleatoric_rms: nan - aleatoric_uncertainty: -inf\n",
            "Epoch 69/200\n",
            "20000/20000 [==============================] - 0s 25us/step - loss: nan - aleatoric_rms: nan - aleatoric_uncertainty: -inf\n",
            "Epoch 70/200\n",
            "20000/20000 [==============================] - 0s 23us/step - loss: nan - aleatoric_rms: nan - aleatoric_uncertainty: -inf\n",
            "Epoch 71/200\n",
            "20000/20000 [==============================] - 0s 24us/step - loss: nan - aleatoric_rms: nan - aleatoric_uncertainty: -inf\n",
            "Epoch 72/200\n",
            "20000/20000 [==============================] - 0s 24us/step - loss: nan - aleatoric_rms: nan - aleatoric_uncertainty: -inf\n",
            "Epoch 73/200\n",
            "20000/20000 [==============================] - 0s 24us/step - loss: nan - aleatoric_rms: nan - aleatoric_uncertainty: -inf\n",
            "Epoch 74/200\n",
            " 2304/20000 [==>...........................] - ETA: 0s - loss: nan - aleatoric_rms: nan - aleatoric_uncertainty: -inf"
          ],
          "name": "stdout"
        },
        {
          "output_type": "stream",
          "text": [
            "20000/20000 [==============================] - 0s 24us/step - loss: nan - aleatoric_rms: nan - aleatoric_uncertainty: -inf\n",
            "Epoch 75/200\n",
            "20000/20000 [==============================] - 0s 24us/step - loss: nan - aleatoric_rms: nan - aleatoric_uncertainty: -inf\n",
            "Epoch 76/200\n",
            "20000/20000 [==============================] - 0s 24us/step - loss: nan - aleatoric_rms: nan - aleatoric_uncertainty: -inf\n",
            "Epoch 77/200\n",
            "20000/20000 [==============================] - 0s 25us/step - loss: nan - aleatoric_rms: nan - aleatoric_uncertainty: -inf\n",
            "Epoch 78/200\n",
            "20000/20000 [==============================] - 0s 24us/step - loss: nan - aleatoric_rms: nan - aleatoric_uncertainty: -inf\n",
            "Epoch 79/200\n",
            "20000/20000 [==============================] - 0s 23us/step - loss: nan - aleatoric_rms: nan - aleatoric_uncertainty: -inf\n",
            "Epoch 80/200\n",
            "20000/20000 [==============================] - 0s 24us/step - loss: nan - aleatoric_rms: nan - aleatoric_uncertainty: -inf\n",
            "Epoch 81/200\n",
            "20000/20000 [==============================] - 0s 24us/step - loss: nan - aleatoric_rms: nan - aleatoric_uncertainty: -inf\n",
            "Epoch 82/200\n",
            "20000/20000 [==============================] - 0s 24us/step - loss: nan - aleatoric_rms: nan - aleatoric_uncertainty: -inf\n",
            "Epoch 83/200\n",
            "20000/20000 [==============================] - 0s 24us/step - loss: nan - aleatoric_rms: nan - aleatoric_uncertainty: -inf\n",
            "Epoch 84/200\n",
            "20000/20000 [==============================] - 0s 24us/step - loss: nan - aleatoric_rms: nan - aleatoric_uncertainty: -inf\n",
            "Epoch 85/200\n",
            " 2304/20000 [==>...........................] - ETA: 0s - loss: nan - aleatoric_rms: nan - aleatoric_uncertainty: -inf"
          ],
          "name": "stdout"
        },
        {
          "output_type": "stream",
          "text": [
            "20000/20000 [==============================] - 0s 25us/step - loss: nan - aleatoric_rms: nan - aleatoric_uncertainty: -inf\n",
            "Epoch 86/200\n",
            "20000/20000 [==============================] - 0s 24us/step - loss: nan - aleatoric_rms: nan - aleatoric_uncertainty: -inf\n",
            "Epoch 87/200\n",
            "20000/20000 [==============================] - 0s 24us/step - loss: nan - aleatoric_rms: nan - aleatoric_uncertainty: -inf\n",
            "Epoch 88/200\n",
            "20000/20000 [==============================] - 0s 24us/step - loss: nan - aleatoric_rms: nan - aleatoric_uncertainty: -inf\n",
            "Epoch 89/200\n",
            "20000/20000 [==============================] - 0s 24us/step - loss: nan - aleatoric_rms: nan - aleatoric_uncertainty: -inf\n",
            "Epoch 90/200\n",
            "20000/20000 [==============================] - 0s 25us/step - loss: nan - aleatoric_rms: nan - aleatoric_uncertainty: -inf\n",
            "Epoch 91/200\n",
            "20000/20000 [==============================] - 0s 24us/step - loss: nan - aleatoric_rms: nan - aleatoric_uncertainty: -inf\n",
            "Epoch 92/200\n",
            "20000/20000 [==============================] - 0s 24us/step - loss: nan - aleatoric_rms: nan - aleatoric_uncertainty: -inf\n",
            "Epoch 93/200\n",
            "20000/20000 [==============================] - 0s 24us/step - loss: nan - aleatoric_rms: nan - aleatoric_uncertainty: -inf\n",
            "Epoch 94/200\n",
            "20000/20000 [==============================] - 0s 24us/step - loss: nan - aleatoric_rms: nan - aleatoric_uncertainty: -inf\n",
            "Epoch 95/200\n",
            "20000/20000 [==============================] - 0s 23us/step - loss: nan - aleatoric_rms: nan - aleatoric_uncertainty: -inf\n",
            "Epoch 96/200\n",
            " 4416/20000 [=====>........................] - ETA: 0s - loss: nan - aleatoric_rms: nan - aleatoric_uncertainty: -inf"
          ],
          "name": "stdout"
        },
        {
          "output_type": "stream",
          "text": [
            "20000/20000 [==============================] - 1s 25us/step - loss: nan - aleatoric_rms: nan - aleatoric_uncertainty: -inf\n",
            "Epoch 97/200\n",
            "20000/20000 [==============================] - 0s 24us/step - loss: nan - aleatoric_rms: nan - aleatoric_uncertainty: -inf\n",
            "Epoch 98/200\n",
            "20000/20000 [==============================] - 0s 24us/step - loss: nan - aleatoric_rms: nan - aleatoric_uncertainty: -inf\n",
            "Epoch 99/200\n",
            "20000/20000 [==============================] - 0s 24us/step - loss: nan - aleatoric_rms: nan - aleatoric_uncertainty: -inf\n",
            "Epoch 100/200\n",
            "20000/20000 [==============================] - 0s 24us/step - loss: nan - aleatoric_rms: nan - aleatoric_uncertainty: -inf\n",
            "Epoch 101/200\n",
            "20000/20000 [==============================] - 0s 23us/step - loss: nan - aleatoric_rms: nan - aleatoric_uncertainty: -inf\n",
            "Epoch 102/200\n",
            "20000/20000 [==============================] - 0s 24us/step - loss: nan - aleatoric_rms: nan - aleatoric_uncertainty: -inf\n",
            "Epoch 103/200\n",
            "20000/20000 [==============================] - 0s 25us/step - loss: nan - aleatoric_rms: nan - aleatoric_uncertainty: -inf\n",
            "Epoch 104/200\n",
            "20000/20000 [==============================] - 0s 24us/step - loss: nan - aleatoric_rms: nan - aleatoric_uncertainty: -inf\n",
            "Epoch 105/200\n",
            "20000/20000 [==============================] - 0s 24us/step - loss: nan - aleatoric_rms: nan - aleatoric_uncertainty: -inf\n",
            "Epoch 106/200\n",
            "20000/20000 [==============================] - 0s 24us/step - loss: nan - aleatoric_rms: nan - aleatoric_uncertainty: -inf\n",
            "Epoch 107/200\n",
            " 2176/20000 [==>...........................] - ETA: 0s - loss: nan - aleatoric_rms: nan - aleatoric_uncertainty: -inf"
          ],
          "name": "stdout"
        },
        {
          "output_type": "stream",
          "text": [
            "20000/20000 [==============================] - 1s 25us/step - loss: nan - aleatoric_rms: nan - aleatoric_uncertainty: -inf\n",
            "Epoch 108/200\n",
            "20000/20000 [==============================] - 0s 25us/step - loss: nan - aleatoric_rms: nan - aleatoric_uncertainty: -inf\n",
            "Epoch 109/200\n",
            "20000/20000 [==============================] - 0s 24us/step - loss: nan - aleatoric_rms: nan - aleatoric_uncertainty: -inf\n",
            "Epoch 110/200\n",
            "20000/20000 [==============================] - 0s 24us/step - loss: nan - aleatoric_rms: nan - aleatoric_uncertainty: -inf\n",
            "Epoch 111/200\n",
            "20000/20000 [==============================] - 1s 25us/step - loss: nan - aleatoric_rms: nan - aleatoric_uncertainty: -inf\n",
            "Epoch 112/200\n",
            "20000/20000 [==============================] - 0s 25us/step - loss: nan - aleatoric_rms: nan - aleatoric_uncertainty: -inf\n",
            "Epoch 113/200\n",
            "20000/20000 [==============================] - 0s 24us/step - loss: nan - aleatoric_rms: nan - aleatoric_uncertainty: -inf\n",
            "Epoch 114/200\n",
            "20000/20000 [==============================] - 0s 25us/step - loss: nan - aleatoric_rms: nan - aleatoric_uncertainty: -inf\n",
            "Epoch 115/200\n",
            "20000/20000 [==============================] - 0s 25us/step - loss: nan - aleatoric_rms: nan - aleatoric_uncertainty: -inf\n",
            "Epoch 116/200\n",
            "20000/20000 [==============================] - 0s 24us/step - loss: nan - aleatoric_rms: nan - aleatoric_uncertainty: -inf\n",
            "Epoch 117/200\n",
            "20000/20000 [==============================] - 0s 25us/step - loss: nan - aleatoric_rms: nan - aleatoric_uncertainty: -inf\n",
            "Epoch 118/200\n",
            "   64/20000 [..............................] - ETA: 0s - loss: nan - aleatoric_rms: nan - aleatoric_uncertainty: -inf"
          ],
          "name": "stdout"
        },
        {
          "output_type": "stream",
          "text": [
            "20000/20000 [==============================] - 0s 24us/step - loss: nan - aleatoric_rms: nan - aleatoric_uncertainty: -inf\n",
            "Epoch 119/200\n",
            "20000/20000 [==============================] - 0s 24us/step - loss: nan - aleatoric_rms: nan - aleatoric_uncertainty: -inf\n",
            "Epoch 120/200\n",
            "20000/20000 [==============================] - 0s 24us/step - loss: nan - aleatoric_rms: nan - aleatoric_uncertainty: -inf\n",
            "Epoch 121/200\n",
            "20000/20000 [==============================] - 0s 24us/step - loss: nan - aleatoric_rms: nan - aleatoric_uncertainty: -inf\n",
            "Epoch 122/200\n",
            "20000/20000 [==============================] - 0s 24us/step - loss: nan - aleatoric_rms: nan - aleatoric_uncertainty: -inf\n",
            "Epoch 123/200\n",
            "20000/20000 [==============================] - 0s 24us/step - loss: nan - aleatoric_rms: nan - aleatoric_uncertainty: -inf\n",
            "Epoch 124/200\n",
            "20000/20000 [==============================] - 0s 24us/step - loss: nan - aleatoric_rms: nan - aleatoric_uncertainty: -inf\n",
            "Epoch 125/200\n",
            "20000/20000 [==============================] - 0s 23us/step - loss: nan - aleatoric_rms: nan - aleatoric_uncertainty: -inf\n",
            "Epoch 126/200\n",
            "20000/20000 [==============================] - 0s 24us/step - loss: nan - aleatoric_rms: nan - aleatoric_uncertainty: -inf\n",
            "Epoch 127/200\n",
            "20000/20000 [==============================] - 0s 24us/step - loss: nan - aleatoric_rms: nan - aleatoric_uncertainty: -inf\n",
            "Epoch 128/200\n",
            "20000/20000 [==============================] - 1s 25us/step - loss: nan - aleatoric_rms: nan - aleatoric_uncertainty: -inf\n",
            "Epoch 129/200\n",
            "   64/20000 [..............................] - ETA: 1s - loss: nan - aleatoric_rms: nan - aleatoric_uncertainty: -inf"
          ],
          "name": "stdout"
        },
        {
          "output_type": "stream",
          "text": [
            "20000/20000 [==============================] - 0s 24us/step - loss: nan - aleatoric_rms: nan - aleatoric_uncertainty: -inf\n",
            "Epoch 130/200\n",
            "20000/20000 [==============================] - 0s 24us/step - loss: nan - aleatoric_rms: nan - aleatoric_uncertainty: -inf\n",
            "Epoch 131/200\n",
            "20000/20000 [==============================] - 0s 24us/step - loss: nan - aleatoric_rms: nan - aleatoric_uncertainty: -inf\n",
            "Epoch 132/200\n",
            "20000/20000 [==============================] - 0s 22us/step - loss: nan - aleatoric_rms: nan - aleatoric_uncertainty: -inf\n",
            "Epoch 133/200\n",
            "20000/20000 [==============================] - 0s 23us/step - loss: nan - aleatoric_rms: nan - aleatoric_uncertainty: -inf\n",
            "Epoch 134/200\n",
            "20000/20000 [==============================] - 0s 23us/step - loss: nan - aleatoric_rms: nan - aleatoric_uncertainty: -inf\n",
            "Epoch 135/200\n",
            "20000/20000 [==============================] - 0s 23us/step - loss: nan - aleatoric_rms: nan - aleatoric_uncertainty: -inf\n",
            "Epoch 136/200\n",
            "20000/20000 [==============================] - 0s 24us/step - loss: nan - aleatoric_rms: nan - aleatoric_uncertainty: -inf\n",
            "Epoch 137/200\n",
            "20000/20000 [==============================] - 0s 24us/step - loss: nan - aleatoric_rms: nan - aleatoric_uncertainty: -inf\n",
            "Epoch 138/200\n",
            "20000/20000 [==============================] - 0s 24us/step - loss: nan - aleatoric_rms: nan - aleatoric_uncertainty: -inf\n",
            "Epoch 139/200\n",
            "20000/20000 [==============================] - 0s 24us/step - loss: nan - aleatoric_rms: nan - aleatoric_uncertainty: -inf\n",
            "Epoch 140/200\n",
            " 2176/20000 [==>...........................] - ETA: 0s - loss: nan - aleatoric_rms: nan - aleatoric_uncertainty: -inf"
          ],
          "name": "stdout"
        },
        {
          "output_type": "stream",
          "text": [
            "20000/20000 [==============================] - 0s 24us/step - loss: nan - aleatoric_rms: nan - aleatoric_uncertainty: -inf\n",
            "Epoch 141/200\n",
            "20000/20000 [==============================] - 0s 24us/step - loss: nan - aleatoric_rms: nan - aleatoric_uncertainty: -inf\n",
            "Epoch 142/200\n",
            "20000/20000 [==============================] - 0s 24us/step - loss: nan - aleatoric_rms: nan - aleatoric_uncertainty: -inf\n",
            "Epoch 143/200\n",
            "20000/20000 [==============================] - 0s 24us/step - loss: nan - aleatoric_rms: nan - aleatoric_uncertainty: -inf\n",
            "Epoch 144/200\n",
            "20000/20000 [==============================] - 1s 25us/step - loss: nan - aleatoric_rms: nan - aleatoric_uncertainty: -inf\n",
            "Epoch 145/200\n",
            "20000/20000 [==============================] - 0s 24us/step - loss: nan - aleatoric_rms: nan - aleatoric_uncertainty: -inf\n",
            "Epoch 146/200\n",
            "20000/20000 [==============================] - 0s 24us/step - loss: nan - aleatoric_rms: nan - aleatoric_uncertainty: -inf\n",
            "Epoch 147/200\n",
            "20000/20000 [==============================] - 0s 23us/step - loss: nan - aleatoric_rms: nan - aleatoric_uncertainty: -inf\n",
            "Epoch 148/200\n",
            "20000/20000 [==============================] - 0s 24us/step - loss: nan - aleatoric_rms: nan - aleatoric_uncertainty: -inf\n",
            "Epoch 149/200\n",
            "20000/20000 [==============================] - 0s 24us/step - loss: nan - aleatoric_rms: nan - aleatoric_uncertainty: -inf\n",
            "Epoch 150/200\n",
            "20000/20000 [==============================] - 0s 25us/step - loss: nan - aleatoric_rms: nan - aleatoric_uncertainty: -inf\n",
            "Epoch 151/200\n",
            "   64/20000 [..............................] - ETA: 1s - loss: nan - aleatoric_rms: nan - aleatoric_uncertainty: -inf"
          ],
          "name": "stdout"
        },
        {
          "output_type": "stream",
          "text": [
            "20000/20000 [==============================] - 0s 24us/step - loss: nan - aleatoric_rms: nan - aleatoric_uncertainty: -inf\n",
            "Epoch 152/200\n",
            "20000/20000 [==============================] - 0s 24us/step - loss: nan - aleatoric_rms: nan - aleatoric_uncertainty: -inf\n",
            "Epoch 153/200\n",
            "20000/20000 [==============================] - 1s 25us/step - loss: nan - aleatoric_rms: nan - aleatoric_uncertainty: -inf\n",
            "Epoch 154/200\n",
            "20000/20000 [==============================] - 0s 24us/step - loss: nan - aleatoric_rms: nan - aleatoric_uncertainty: -inf\n",
            "Epoch 155/200\n",
            "20000/20000 [==============================] - 0s 24us/step - loss: nan - aleatoric_rms: nan - aleatoric_uncertainty: -inf\n",
            "Epoch 156/200\n",
            "20000/20000 [==============================] - 0s 25us/step - loss: nan - aleatoric_rms: nan - aleatoric_uncertainty: -inf\n",
            "Epoch 157/200\n",
            "20000/20000 [==============================] - 0s 24us/step - loss: nan - aleatoric_rms: nan - aleatoric_uncertainty: -inf\n",
            "Epoch 158/200\n",
            "20000/20000 [==============================] - 0s 24us/step - loss: nan - aleatoric_rms: nan - aleatoric_uncertainty: -inf\n",
            "Epoch 159/200\n",
            "20000/20000 [==============================] - 0s 25us/step - loss: nan - aleatoric_rms: nan - aleatoric_uncertainty: -inf\n",
            "Epoch 160/200\n",
            "20000/20000 [==============================] - 0s 24us/step - loss: nan - aleatoric_rms: nan - aleatoric_uncertainty: -inf\n",
            "Epoch 161/200\n",
            "20000/20000 [==============================] - 1s 26us/step - loss: nan - aleatoric_rms: nan - aleatoric_uncertainty: -inf\n"
          ],
          "name": "stdout"
        },
        {
          "output_type": "stream",
          "text": [
            "Epoch 162/200\n",
            "20000/20000 [==============================] - 0s 24us/step - loss: nan - aleatoric_rms: nan - aleatoric_uncertainty: -inf\n",
            "Epoch 163/200\n",
            "20000/20000 [==============================] - 0s 24us/step - loss: nan - aleatoric_rms: nan - aleatoric_uncertainty: -inf\n",
            "Epoch 164/200\n",
            "20000/20000 [==============================] - 0s 25us/step - loss: nan - aleatoric_rms: nan - aleatoric_uncertainty: -inf\n",
            "Epoch 165/200\n",
            "20000/20000 [==============================] - 0s 24us/step - loss: nan - aleatoric_rms: nan - aleatoric_uncertainty: -inf\n",
            "Epoch 166/200\n",
            "20000/20000 [==============================] - 0s 25us/step - loss: nan - aleatoric_rms: nan - aleatoric_uncertainty: -inf\n",
            "Epoch 167/200\n",
            "20000/20000 [==============================] - 0s 24us/step - loss: nan - aleatoric_rms: nan - aleatoric_uncertainty: -inf\n",
            "Epoch 168/200\n",
            "20000/20000 [==============================] - 0s 24us/step - loss: nan - aleatoric_rms: nan - aleatoric_uncertainty: -inf\n",
            "Epoch 169/200\n",
            "20000/20000 [==============================] - 0s 24us/step - loss: nan - aleatoric_rms: nan - aleatoric_uncertainty: -inf\n",
            "Epoch 170/200\n",
            "20000/20000 [==============================] - 0s 23us/step - loss: nan - aleatoric_rms: nan - aleatoric_uncertainty: -inf\n",
            "Epoch 171/200\n",
            "20000/20000 [==============================] - 0s 24us/step - loss: nan - aleatoric_rms: nan - aleatoric_uncertainty: -inf\n",
            "Epoch 172/200\n",
            "20000/20000 [==============================] - 0s 24us/step - loss: nan - aleatoric_rms: nan - aleatoric_uncertainty: -inf\n"
          ],
          "name": "stdout"
        },
        {
          "output_type": "stream",
          "text": [
            "Epoch 173/200\n",
            "20000/20000 [==============================] - 0s 24us/step - loss: nan - aleatoric_rms: nan - aleatoric_uncertainty: -inf\n",
            "Epoch 174/200\n",
            "20000/20000 [==============================] - 0s 24us/step - loss: nan - aleatoric_rms: nan - aleatoric_uncertainty: -inf\n",
            "Epoch 175/200\n",
            "20000/20000 [==============================] - 0s 24us/step - loss: nan - aleatoric_rms: nan - aleatoric_uncertainty: -inf\n",
            "Epoch 176/200\n",
            "20000/20000 [==============================] - 0s 23us/step - loss: nan - aleatoric_rms: nan - aleatoric_uncertainty: -inf\n",
            "Epoch 177/200\n",
            "20000/20000 [==============================] - 0s 24us/step - loss: nan - aleatoric_rms: nan - aleatoric_uncertainty: -inf\n",
            "Epoch 178/200\n",
            "20000/20000 [==============================] - 0s 23us/step - loss: nan - aleatoric_rms: nan - aleatoric_uncertainty: -inf\n",
            "Epoch 179/200\n",
            "20000/20000 [==============================] - 0s 24us/step - loss: nan - aleatoric_rms: nan - aleatoric_uncertainty: -inf\n",
            "Epoch 180/200\n",
            "20000/20000 [==============================] - 0s 23us/step - loss: nan - aleatoric_rms: nan - aleatoric_uncertainty: -inf\n",
            "Epoch 181/200\n",
            "20000/20000 [==============================] - 0s 24us/step - loss: nan - aleatoric_rms: nan - aleatoric_uncertainty: -inf\n",
            "Epoch 182/200\n",
            "20000/20000 [==============================] - 0s 24us/step - loss: nan - aleatoric_rms: nan - aleatoric_uncertainty: -inf\n",
            "Epoch 183/200\n",
            "19456/20000 [============================>.] - ETA: 0s - loss: nan - aleatoric_rms: nan - aleatoric_uncertainty: -inf"
          ],
          "name": "stdout"
        },
        {
          "output_type": "stream",
          "text": [
            "20000/20000 [==============================] - 0s 24us/step - loss: nan - aleatoric_rms: nan - aleatoric_uncertainty: -inf\n",
            "Epoch 184/200\n",
            "20000/20000 [==============================] - 0s 24us/step - loss: nan - aleatoric_rms: nan - aleatoric_uncertainty: -inf\n",
            "Epoch 185/200\n",
            "20000/20000 [==============================] - 0s 24us/step - loss: nan - aleatoric_rms: nan - aleatoric_uncertainty: -inf\n",
            "Epoch 186/200\n",
            "20000/20000 [==============================] - 0s 23us/step - loss: nan - aleatoric_rms: nan - aleatoric_uncertainty: -inf\n",
            "Epoch 187/200\n",
            "20000/20000 [==============================] - 0s 24us/step - loss: nan - aleatoric_rms: nan - aleatoric_uncertainty: -inf\n",
            "Epoch 188/200\n",
            "20000/20000 [==============================] - 0s 23us/step - loss: nan - aleatoric_rms: nan - aleatoric_uncertainty: -inf\n",
            "Epoch 189/200\n",
            "20000/20000 [==============================] - 0s 24us/step - loss: nan - aleatoric_rms: nan - aleatoric_uncertainty: -inf\n",
            "Epoch 190/200\n",
            "20000/20000 [==============================] - 0s 23us/step - loss: nan - aleatoric_rms: nan - aleatoric_uncertainty: -inf\n",
            "Epoch 191/200\n",
            "20000/20000 [==============================] - 0s 23us/step - loss: nan - aleatoric_rms: nan - aleatoric_uncertainty: -inf\n",
            "Epoch 192/200\n",
            "20000/20000 [==============================] - 0s 24us/step - loss: nan - aleatoric_rms: nan - aleatoric_uncertainty: -inf\n",
            "Epoch 193/200\n",
            "20000/20000 [==============================] - 0s 23us/step - loss: nan - aleatoric_rms: nan - aleatoric_uncertainty: -inf\n",
            "Epoch 194/200\n",
            " 4608/20000 [=====>........................] - ETA: 0s - loss: nan - aleatoric_rms: nan - aleatoric_uncertainty: -inf"
          ],
          "name": "stdout"
        },
        {
          "output_type": "stream",
          "text": [
            "20000/20000 [==============================] - 0s 24us/step - loss: nan - aleatoric_rms: nan - aleatoric_uncertainty: -inf\n",
            "Epoch 195/200\n",
            "20000/20000 [==============================] - 0s 23us/step - loss: nan - aleatoric_rms: nan - aleatoric_uncertainty: -inf\n",
            "Epoch 196/200\n",
            "20000/20000 [==============================] - 0s 24us/step - loss: nan - aleatoric_rms: nan - aleatoric_uncertainty: -inf\n",
            "Epoch 197/200\n",
            "20000/20000 [==============================] - 0s 24us/step - loss: nan - aleatoric_rms: nan - aleatoric_uncertainty: -inf\n",
            "Epoch 198/200\n",
            "20000/20000 [==============================] - 0s 23us/step - loss: nan - aleatoric_rms: nan - aleatoric_uncertainty: -inf\n",
            "Epoch 199/200\n",
            "20000/20000 [==============================] - 0s 23us/step - loss: nan - aleatoric_rms: nan - aleatoric_uncertainty: -inf\n",
            "Epoch 200/200\n",
            "20000/20000 [==============================] - 0s 23us/step - loss: nan - aleatoric_rms: nan - aleatoric_uncertainty: -inf\n"
          ],
          "name": "stdout"
        },
        {
          "output_type": "execute_result",
          "data": {
            "text/plain": [
              "<keras.callbacks.History at 0x7ff0d4616828>"
            ]
          },
          "metadata": {
            "tags": []
          },
          "execution_count": 9
        }
      ]
    },
    {
      "metadata": {
        "id": "sjGoxBH0AAvo",
        "colab_type": "code",
        "colab": {
          "base_uri": "https://localhost:8080/",
          "height": 677
        },
        "outputId": "a169a336-6191-43d4-c575-d738fe2591e1"
      },
      "cell_type": "code",
      "source": [
        "result = model.predict(x)\n",
        "plt.plot(x, result[:,0],'.')\n",
        "plt.show()\n",
        "plt.plot(x, result[:,1],'.')\n",
        "plt.show()"
      ],
      "execution_count": 4,
      "outputs": [
        {
          "output_type": "display_data",
          "data": {
            "image/png": "[encoded data removed]",
            "text/plain": [
              "<matplotlib.figure.Figure at 0x7fdd6b208898>"
            ]
          },
          "metadata": {
            "tags": []
          }
        },
        {
          "output_type": "display_data",
          "data": {
            "image/png": "[encoded data removed]",
            "text/plain": [
              "<matplotlib.figure.Figure at 0x7fdd6691dcc0>"
            ]
          },
          "metadata": {
            "tags": []
          }
        }
      ]
    },
    {
      "metadata": {
        "id": "xp3zSi1qDiiJ",
        "colab_type": "code",
        "colab": {}
      },
      "cell_type": "code",
      "source": [
        ""
      ],
      "execution_count": 0,
      "outputs": []
    }
  ]
}